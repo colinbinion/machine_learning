{
 "cells": [
  {
   "cell_type": "markdown",
   "metadata": {},
   "source": [
    "The logistic regression classifier is a widely used machine learning model that predicts the group or category that an observation belongs to. When implementing this model, most people rely on [some package](http://scikit-learn.org/stable/) or API: just hand over a dataset, pick a few parameters and out come the predictions. However, I'm not a fan of using black boxes without first understanding what's going on inside. In fact, lifting the hood on this classifier provides a segue to more complex models such as neural networks. Therefore, this post will explore the methodology behind logistic regression classifiers and walk through how to construct one from scratch.\n",
    "<!-- TEASER_END -->\n",
    "\n",
    "**Specifically, a logistic regression classifier determines the *probability* that an observation belongs to one class over another.** If this probability exceeds some threshold, the observation is assigned to a particular class, or else assigned to the other class. For example, such a classifier can decide whether an email is spam or not, or whether a customer will buy a product. Rather than explicitly programming an intricate rule that dictates how the classification should take place, we allow the classifier to *learn* from a labeled dataset and figure out the rule for itself&mdash;a hallmark of machine learning. Since this **training set** informs the classifier of what right and wrong answers look like, this is an example of **supervised learning**.\n",
    "\n",
    "# Table of contents\n",
    "1. [Inspecting the data](#cell1)\n",
    "2. [Developing a hypothesis using the logistic function](#cell2)\n",
    "3. [Measuring prediction error using the cost function](#cell3)\n",
    "4. [Minimizing the cost function with batch gradient descent](#cell4)\n",
    "5. [Training the classifier and making predictions](#cell5)\n",
    "6. [Assessing and improving performance](#cell6)\n",
    "\n",
    "<a id=\"cell1\"></a>\n",
    "# 1. Inspecting the data\n",
    "\n",
    "Before diving in, let's take a look at the training set we'll be working with and understand what we're trying to predict."
   ]
  },
  {
   "cell_type": "code",
   "execution_count": 1,
   "metadata": {
    "collapsed": false,
    "scrolled": true
   },
   "outputs": [
    {
     "data": {
      "text/html": [
       "<div>\n",
       "<table border=\"1\" class=\"dataframe\">\n",
       "  <thead>\n",
       "    <tr style=\"text-align: right;\">\n",
       "      <th></th>\n",
       "      <th>funds</th>\n",
       "      <th>rating</th>\n",
       "      <th>result</th>\n",
       "    </tr>\n",
       "  </thead>\n",
       "  <tbody>\n",
       "    <tr>\n",
       "      <th>0</th>\n",
       "      <td>0.236</td>\n",
       "      <td>0.302</td>\n",
       "      <td>won</td>\n",
       "    </tr>\n",
       "    <tr>\n",
       "      <th>1</th>\n",
       "      <td>0.260</td>\n",
       "      <td>0.270</td>\n",
       "      <td>won</td>\n",
       "    </tr>\n",
       "    <tr>\n",
       "      <th>2</th>\n",
       "      <td>0.162</td>\n",
       "      <td>0.305</td>\n",
       "      <td>won</td>\n",
       "    </tr>\n",
       "    <tr>\n",
       "      <th>3</th>\n",
       "      <td>0.376</td>\n",
       "      <td>0.337</td>\n",
       "      <td>won</td>\n",
       "    </tr>\n",
       "    <tr>\n",
       "      <th>4</th>\n",
       "      <td>0.308</td>\n",
       "      <td>0.362</td>\n",
       "      <td>won</td>\n",
       "    </tr>\n",
       "  </tbody>\n",
       "</table>\n",
       "</div>"
      ],
      "text/plain": [
       "   funds  rating result\n",
       "0  0.236   0.302    won\n",
       "1  0.260   0.270    won\n",
       "2  0.162   0.305    won\n",
       "3  0.376   0.337    won\n",
       "4  0.308   0.362    won"
      ]
     },
     "execution_count": 1,
     "metadata": {},
     "output_type": "execute_result"
    }
   ],
   "source": [
    "# Load required packages\n",
    "import numpy as np\n",
    "import pandas as pd\n",
    "import matplotlib.pyplot as plt\n",
    "import seaborn as sns\n",
    "from scipy import special\n",
    "%matplotlib inline\n",
    "%config InlineBackend.figure_format = 'retina'\n",
    "\n",
    "# Load the dataset into a DataFrame using the first row as column labels\n",
    "df = pd.read_csv('data/election.csv', header=0)\n",
    "\n",
    "# Display first five rows\n",
    "df.head()"
   ]
  },
  {
   "cell_type": "markdown",
   "metadata": {},
   "source": [
    "The training set is comprised of hypothetical mayoral election results from a certain country. Here's a description of each column:\n",
    "\n",
    "- `funds` - campaign money (in millions) raised by the candidate\n",
    "- `rating` - the candidate's average rating (ranging from 0 to 1) as provided by public opinion polls\n",
    "- `result` - whether the candidate won or lost the election\n",
    "\n",
    "`funds` and `rating` are the **features**, while `result` is the **target variable** that defines the classes: winners and losers. Using this training set and a logistic regression classifier, **we aim to predict if a future candidate will win an election.**\n",
    "\n",
    "Because we'll need to eventually perform computations on the target variable, let's encode its values with numbers: \"won\" = 1 and \"lost\" = 0. "
   ]
  },
  {
   "cell_type": "code",
   "execution_count": 2,
   "metadata": {
    "collapsed": false
   },
   "outputs": [
    {
     "data": {
      "text/html": [
       "<div>\n",
       "<table border=\"1\" class=\"dataframe\">\n",
       "  <thead>\n",
       "    <tr style=\"text-align: right;\">\n",
       "      <th></th>\n",
       "      <th>funds</th>\n",
       "      <th>rating</th>\n",
       "      <th>result</th>\n",
       "    </tr>\n",
       "  </thead>\n",
       "  <tbody>\n",
       "    <tr>\n",
       "      <th>0</th>\n",
       "      <td>0.0</td>\n",
       "      <td>0.0</td>\n",
       "      <td>0</td>\n",
       "    </tr>\n",
       "    <tr>\n",
       "      <th>1</th>\n",
       "      <td>0.0</td>\n",
       "      <td>0.0</td>\n",
       "      <td>0</td>\n",
       "    </tr>\n",
       "    <tr>\n",
       "      <th>2</th>\n",
       "      <td>0.0</td>\n",
       "      <td>0.0</td>\n",
       "      <td>0</td>\n",
       "    </tr>\n",
       "    <tr>\n",
       "      <th>3</th>\n",
       "      <td>0.0</td>\n",
       "      <td>0.0</td>\n",
       "      <td>0</td>\n",
       "    </tr>\n",
       "    <tr>\n",
       "      <th>4</th>\n",
       "      <td>0.0</td>\n",
       "      <td>0.0</td>\n",
       "      <td>0</td>\n",
       "    </tr>\n",
       "  </tbody>\n",
       "</table>\n",
       "</div>"
      ],
      "text/plain": [
       "   funds  rating  result\n",
       "0    0.0     0.0       0\n",
       "1    0.0     0.0       0\n",
       "2    0.0     0.0       0\n",
       "3    0.0     0.0       0\n",
       "4    0.0     0.0       0"
      ]
     },
     "execution_count": 2,
     "metadata": {},
     "output_type": "execute_result"
    }
   ],
   "source": [
    "# Encode the values in the target variable with numbers\n",
    "df.loc[df['result'] == 'won', 'result'] = 1\n",
    "df.loc[df['result'] == 'lost', 'result'] = 0\n",
    "\n",
    "# Convert the target variable to integer type\n",
    "df['result'] = df['result'].apply(pd.to_numeric)\n",
    "\n",
    "# Display the first five rows\n",
    "df.head()"
   ]
  },
  {
   "cell_type": "markdown",
   "metadata": {},
   "source": [
    "## Visualizing the data\n",
    "\n",
    "Let's dive deeper into the training set and see what it looks like."
   ]
  },
  {
   "cell_type": "code",
   "execution_count": 3,
   "metadata": {
    "collapsed": false,
    "scrolled": true
   },
   "outputs": [
    {
     "data": {
      "text/html": [
       "<div>\n",
       "<table border=\"1\" class=\"dataframe\">\n",
       "  <thead>\n",
       "    <tr style=\"text-align: right;\">\n",
       "      <th></th>\n",
       "      <th>funds</th>\n",
       "      <th>rating</th>\n",
       "      <th>result</th>\n",
       "    </tr>\n",
       "  </thead>\n",
       "  <tbody>\n",
       "    <tr>\n",
       "      <th>count</th>\n",
       "      <td>264.0</td>\n",
       "      <td>264.0</td>\n",
       "      <td>264.0</td>\n",
       "    </tr>\n",
       "    <tr>\n",
       "      <th>mean</th>\n",
       "      <td>0.0</td>\n",
       "      <td>0.0</td>\n",
       "      <td>0.0</td>\n",
       "    </tr>\n",
       "    <tr>\n",
       "      <th>std</th>\n",
       "      <td>0.0</td>\n",
       "      <td>0.0</td>\n",
       "      <td>0.0</td>\n",
       "    </tr>\n",
       "    <tr>\n",
       "      <th>min</th>\n",
       "      <td>0.0</td>\n",
       "      <td>0.0</td>\n",
       "      <td>0.0</td>\n",
       "    </tr>\n",
       "    <tr>\n",
       "      <th>25%</th>\n",
       "      <td>0.0</td>\n",
       "      <td>0.0</td>\n",
       "      <td>0.0</td>\n",
       "    </tr>\n",
       "    <tr>\n",
       "      <th>50%</th>\n",
       "      <td>0.0</td>\n",
       "      <td>0.0</td>\n",
       "      <td>0.0</td>\n",
       "    </tr>\n",
       "    <tr>\n",
       "      <th>75%</th>\n",
       "      <td>0.0</td>\n",
       "      <td>0.0</td>\n",
       "      <td>0.0</td>\n",
       "    </tr>\n",
       "    <tr>\n",
       "      <th>max</th>\n",
       "      <td>0.0</td>\n",
       "      <td>0.0</td>\n",
       "      <td>0.0</td>\n",
       "    </tr>\n",
       "  </tbody>\n",
       "</table>\n",
       "</div>"
      ],
      "text/plain": [
       "       funds  rating  result\n",
       "count  264.0   264.0   264.0\n",
       "mean     0.0     0.0     0.0\n",
       "std      0.0     0.0     0.0\n",
       "min      0.0     0.0     0.0\n",
       "25%      0.0     0.0     0.0\n",
       "50%      0.0     0.0     0.0\n",
       "75%      0.0     0.0     0.0\n",
       "max      0.0     0.0     0.0"
      ]
     },
     "execution_count": 3,
     "metadata": {},
     "output_type": "execute_result"
    }
   ],
   "source": [
    "df.describe()"
   ]
  },
  {
   "cell_type": "code",
   "execution_count": 4,
   "metadata": {
    "collapsed": false,
    "scrolled": true
   },
   "outputs": [
    {
     "data": {
      "image/png": "[encoded data removed]",
      "text/plain": [
       "<matplotlib.figure.Figure at 0x1d61c534940>"
      ]
     },
     "metadata": {
      "image/png": {
       "height": 337,
       "width": 394
      }
     },
     "output_type": "display_data"
    }
   ],
   "source": [
    "# Improve readability of the figures\n",
    "sns.set_context('notebook', font_scale=1.4)\n",
    "\n",
    "# Display a scatterplot of the training set and label the axes\n",
    "sns.lmplot(\n",
    "    data=df,\n",
    "    x='funds',\n",
    "    y='rating',\n",
    "    hue='result',\n",
    "    fit_reg=False,\n",
    "    palette='Set1'\n",
    ").set_axis_labels('Funds (in millions)', 'Poll rating');"
   ]
  },
  {
   "cell_type": "markdown",
   "metadata": {},
   "source": [
    "It seems we have data for 264 candidates, or **training examples**. A quick glance at the training set tells us the two classes are generally found above and below some straight line. In order to make predictions, the classifier will need to identify this **decision boundary**. However, before prognosticating anything, we first need the classifier to somehow compute win probabilities given `funds` and `rating`. \n",
    "\n",
    "<a id=\"cell2\"></a>\n",
    "# 2. Developing a hypothesis using the logistic function\n",
    "\n",
    "Machine learning models are based on some mathematical function that processes the features $x$ and outputs a value; this function is called the **hypothesis** $h_\\theta(x)$. Since our classifier of interest outputs probabilities, we need its hypothesis to range between zero and one. We can't use linear functions because probabilities below zero or above one don't make any sense. Therefore, let's turn to the **logistic function**\n",
    "\n",
    "$$\\sigma(z) = \\frac{1}{1+\\mathrm{e}^{-z}}$$\n",
    "\n",
    "and see what this function looks like."
   ]
  },
  {
   "cell_type": "code",
   "execution_count": 5,
   "metadata": {
    "collapsed": false,
    "scrolled": true
   },
   "outputs": [
    {
     "data": {
      "image/png": "[encoded data removed]",
      "text/plain": [
       "<matplotlib.figure.Figure at 0x1d61c5c5be0>"
      ]
     },
     "metadata": {
      "image/png": {
       "height": 333,
       "width": 487
      }
     },
     "output_type": "display_data"
    }
   ],
   "source": [
    "# Compute the logistic function over a range of values\n",
    "x_values = np.linspace(-10, 10, 1000)\n",
    "lf_values = special.expit(x_values)\n",
    "\n",
    "# Display the logistic function\n",
    "sns.regplot(\n",
    "    x=x_values,\n",
    "    y=lf_values,\n",
    "    fit_reg=False\n",
    ").set(yticks=np.linspace(0, 1, 11));"
   ]
  },
  {
   "cell_type": "markdown",
   "metadata": {},
   "source": [
    "We notice that $\\lim_{z\\rightarrow\\infty}\\sigma(z) = 1$ and $\\lim_{z\\rightarrow-\\infty}\\sigma(z) = 0$, which is perfect since we're working with probabilities. The question is: how do we incorporate `funds` and `rating` into the logistic function to develop a hypothesis? Because we're interested in finding a linear decision boundary, perhaps a [linear combination](https://en.wikipedia.org/wiki/Linear_combination) of the features will suffice:\n",
    "\n",
    "$$z = \\theta_0{x_0} + \\theta_1{x_1} + \\theta_2{x_2}$$\n",
    "\n",
    "- $x_1$ and $x_2$ are the features `funds` and `rating`, respectively\n",
    "- $x_0 = 1$\n",
    "- $\\theta_0$, $\\theta_1$ and $\\theta_2$ are real numbers\n",
    "\n",
    "If we input the above expression into the logistic function, we have a potential hypothesis for the classifier:\n",
    "\n",
    "$$h_\\theta(x) = \\sigma(\\theta_0{x_0} + \\theta_1{x_1} + \\theta_2{x_2}) = \\frac{1}{1+\\mathrm{e}^{-(\\theta_0{x_0} + \\theta_1{x_1} + \\theta_2{x_2})}}$$\n",
    "\n",
    "Specifically, **this hypothesis computes the probability that a candidate will win an election given a set of features.** But how do we know if this is a suitable hypothesis? Well, if we set $z = 0$, then $h_\\theta(x) = \\sigma(0) = 0.5$. This probability value holds some significance&mdash;it serves as an intuitive threshold for making predictions. That is, we can predict a candidate will win the election if the win probability equals or exceeds 50% (i.e., $h_\\theta(x)\\ge0.5$), otherwise he/she is predicted to lose. Setting $z = 0$ has another intriguing result: it transforms the above linear combination into the equation of a line: \n",
    "\n",
    "$$x_2=-\\frac{\\theta_0}{\\theta_2}-{\\frac{\\theta_1}{\\theta_2}}x_1$$\n",
    "\n",
    "Because this line is linked to the threshold for making predictions, logically, this must be the decision boundary of the classifier. It looks like our choice for the hypothesis wasn't arbitrary after all! Now all that remains is to figure out what are the **parameters** of the hypothesis: $\\theta_0$, $\\theta_1$ and $\\theta_2$. \n",
    "\n",
    "<a id=\"cell3\"></a>\n",
    "# 3. Measuring prediction error using the cost function\n",
    "\n",
    "To determine the parameters of our newly formulated hypothesis, let's work backwards and start with how we'd want the logistic regression classifier to perform on the training examples. Hopefully, the *actual winners* have win probabilities near one, while the *actual losers* near zero. Let's go ahead and define the win probability of an actual winner, which is equivalent to the probability of *correctly* classifying an actual winner:\n",
    "\n",
    "$$P(y = 1 \\mid x_{winner}) = h_\\theta(x_{winner})$$\n",
    "\n",
    "where $y$ is the target variable. Since we're performing binary classification, the probability of correctly classifying an actual loser is given by\n",
    "\n",
    "$$P(y = 0 \\mid x_{loser}) = 1-h_\\theta(x_{loser})$$\n",
    "\n",
    "Assuming each training example was independently generated, the probability of correctly classifying *every* actual winner in the training set is the product of their individual probabilities: $\\prod_{winners}h_\\theta(x)$. Conversely, the probability of correctly classifying *every* actual loser is $\\prod_{losers}(1-h_\\theta(x))$. Taken together, the joint product represents the probability of correctly classifying *all of the training examples*: \n",
    "\n",
    "$$\\displaystyle\\prod_{y=1}h_\\theta(x)\\displaystyle\\prod_{y=0}(1-h_\\theta(x))$$\n",
    "\n",
    "This joint product can be combined and written more succinctly, and is called the **likelihood** of the data for a set of parameters $\\theta$:\n",
    "\n",
    "$$\\mathcal{L}(\\theta) = \\displaystyle\\prod_{i=1}^{m}h_\\theta({x}^{(i)})^{y^{(i)}}(1-h_\\theta({x}^{(i)}))^{1-y^{(i)}}$$\n",
    "\n",
    "where $({x}^{(i)}, {y}^{(i)})$ refers to the $i$th training example and  $m$ is the number of training examples. Since we'd like to maximize the probability of correctly classifying the entire training set, we need to maximize $\\mathcal{L}(\\theta)$. It turns out that it's much easier to maximize its logarithm:\n",
    "\n",
    "$$\\ln{\\mathcal{L}(\\theta)} =\\sum_{i=1}^{m}{y}^{(i)}\\ln{h_\\theta(x^{(i)})} + (1 - y^{(i)})\\ln(1 - h_\\theta(x^{(i)}))$$\n",
    "\n",
    "Maximizing $\\ln{\\mathcal{L}(\\theta)}$ is also equivalent to *minimizing* its negative:\n",
    "\n",
    "$$-\\ln{\\mathcal{L}(\\theta)} = \\sum_{i=1}^{m}{-y}^{(i)}\\ln h_\\theta(x^{(i)}) - (1 - y^{(i)})\\ln(1 - h_\\theta(x^{(i)}))$$\n",
    "\n",
    "This expression represents the probability of *incorrectly* classifying the training set, or in other words, the total error or cost of the predictions made by the classifier. The mean cost of a prediction can then serve as a convenient metric for how well the classifier performs, and is called the **cost function**:\n",
    "\n",
    "$$C(\\theta) = \\frac{1}{m}\\sum_{i=1}^{m}{-y}^{(i)}\\ln h_\\theta(x^{(i)}) - (1 - y^{(i)})\\ln(1 - h_\\theta(x^{(i)}))$$\n",
    "\n",
    "**Therefore, our goal is to the identify the parameters $\\theta$ that minimize the cost function.** Programming the cost function would typically require nested `for` loops and/or the use of `sum()`. A more elegant and computationally efficient method takes advantageous of linear algebra to arrive at a vectorized version:\n",
    "\n",
    "$$C(\\vec{\\theta}) = \\frac{1}{m}\\Big({-\\mathbf{y}}^T\\ln \\sigma({X}{\\vec\\theta}) - (1 - \\mathbf{y})^T\\ln(1 - \\sigma({X}{\\vec\\theta}))\\Big)$$"
   ]
  },
  {
   "cell_type": "markdown",
   "metadata": {},
   "source": [
    "$$\\vec{\\theta}=\n",
    "\\left[\\begin{array}{cccc}\n",
    "\\theta_0 \\\\\n",
    "\\theta_1 \\\\\n",
    "\\theta_2 \n",
    "\\end{array}\\right]\\quad{X}=\n",
    "\\left[\\begin{array}{cccc}\n",
    "x_0 & x_1^{(1)} & x_2^{(1)} \\\\\n",
    "x_0 & x_1^{(2)} & x_2^{(2)} \\\\\n",
    "\\vdots & \\vdots & \\vdots \\\\\n",
    "x_0 & x_1^{(m)} & x_2^{(m)}\n",
    "\\end{array}\\right]\\quad\\mathbf{y}=\n",
    "\\left[\\begin{array}{cccc}\n",
    "y^{(1)} \\\\\n",
    "y^{(2)} \\\\\n",
    "\\vdots \\\\\n",
    "y^{(m)}\n",
    "\\end{array}\\right]$$"
   ]
  },
  {
   "cell_type": "code",
   "execution_count": 6,
   "metadata": {
    "collapsed": true
   },
   "outputs": [],
   "source": [
    "def cost_function(X, y, theta):    \n",
    "    # Compute the number of training examples\n",
    "    m = len(X) \n",
    "    \n",
    "    hypothesis = special.expit(X.values @ theta)\n",
    "    return (\n",
    "        (-(y.values.T) @ np.log(hypothesis)) -\n",
    "        ((1 - y.values).T @ np.log(1 - hypothesis))\n",
    "    ) / m"
   ]
  },
  {
   "cell_type": "markdown",
   "metadata": {},
   "source": [
    "## Setting up the features and target variable\n",
    "\n",
    "We'll utilize the vectorized version of the cost function so while we're here, let's place the features into a **design matrix** $X$."
   ]
  },
  {
   "cell_type": "code",
   "execution_count": 7,
   "metadata": {
    "collapsed": false
   },
   "outputs": [
    {
     "data": {
      "text/html": [
       "<div>\n",
       "<table border=\"1\" class=\"dataframe\">\n",
       "  <thead>\n",
       "    <tr style=\"text-align: right;\">\n",
       "      <th></th>\n",
       "      <th>x0</th>\n",
       "      <th>funds</th>\n",
       "      <th>rating</th>\n",
       "    </tr>\n",
       "  </thead>\n",
       "  <tbody>\n",
       "    <tr>\n",
       "      <th>0</th>\n",
       "      <td>1.0</td>\n",
       "      <td>0.0</td>\n",
       "      <td>0.0</td>\n",
       "    </tr>\n",
       "    <tr>\n",
       "      <th>1</th>\n",
       "      <td>1.0</td>\n",
       "      <td>0.0</td>\n",
       "      <td>0.0</td>\n",
       "    </tr>\n",
       "    <tr>\n",
       "      <th>2</th>\n",
       "      <td>1.0</td>\n",
       "      <td>0.0</td>\n",
       "      <td>0.0</td>\n",
       "    </tr>\n",
       "    <tr>\n",
       "      <th>3</th>\n",
       "      <td>1.0</td>\n",
       "      <td>0.0</td>\n",
       "      <td>0.0</td>\n",
       "    </tr>\n",
       "    <tr>\n",
       "      <th>4</th>\n",
       "      <td>1.0</td>\n",
       "      <td>0.0</td>\n",
       "      <td>0.0</td>\n",
       "    </tr>\n",
       "  </tbody>\n",
       "</table>\n",
       "</div>"
      ],
      "text/plain": [
       "    x0  funds  rating\n",
       "0  1.0    0.0     0.0\n",
       "1  1.0    0.0     0.0\n",
       "2  1.0    0.0     0.0\n",
       "3  1.0    0.0     0.0\n",
       "4  1.0    0.0     0.0"
      ]
     },
     "execution_count": 7,
     "metadata": {},
     "output_type": "execute_result"
    }
   ],
   "source": [
    "# Compute the number of training examples\n",
    "m = len(df)\n",
    "\n",
    "# Set up a design matrix with the first column x0 as ones\n",
    "X = pd.concat(\n",
    "    (pd.Series(np.ones(m), name='x0'), df[['funds', 'rating']]),\n",
    "    axis=1\n",
    ")\n",
    "\n",
    "# Display the first five rows\n",
    "X.head()"
   ]
  },
  {
   "cell_type": "markdown",
   "metadata": {},
   "source": [
    "Let's also set up the target variable in a vector $\\mathbf{y}$."
   ]
  },
  {
   "cell_type": "code",
   "execution_count": 8,
   "metadata": {
    "collapsed": false,
    "scrolled": false
   },
   "outputs": [
    {
     "data": {
      "text/html": [
       "<div>\n",
       "<table border=\"1\" class=\"dataframe\">\n",
       "  <thead>\n",
       "    <tr style=\"text-align: right;\">\n",
       "      <th></th>\n",
       "      <th>result</th>\n",
       "    </tr>\n",
       "  </thead>\n",
       "  <tbody>\n",
       "    <tr>\n",
       "      <th>0</th>\n",
       "      <td>0</td>\n",
       "    </tr>\n",
       "    <tr>\n",
       "      <th>1</th>\n",
       "      <td>0</td>\n",
       "    </tr>\n",
       "    <tr>\n",
       "      <th>2</th>\n",
       "      <td>0</td>\n",
       "    </tr>\n",
       "    <tr>\n",
       "      <th>3</th>\n",
       "      <td>0</td>\n",
       "    </tr>\n",
       "    <tr>\n",
       "      <th>4</th>\n",
       "      <td>0</td>\n",
       "    </tr>\n",
       "  </tbody>\n",
       "</table>\n",
       "</div>"
      ],
      "text/plain": [
       "   result\n",
       "0       0\n",
       "1       0\n",
       "2       0\n",
       "3       0\n",
       "4       0"
      ]
     },
     "execution_count": 8,
     "metadata": {},
     "output_type": "execute_result"
    }
   ],
   "source": [
    "# Store the target variable as a separate vector\n",
    "y = df.loc[:, 'result':]\n",
    "\n",
    "# Display the first five rows\n",
    "y.head()"
   ]
  },
  {
   "cell_type": "markdown",
   "metadata": {},
   "source": [
    "<a id=\"cell4\"></a>\n",
    "# 4. Minimizing the cost function with batch gradient descent \n",
    "\n",
    "Because the cost function $C(\\theta)$ of a logistic regression classifier is [convex](http://mathgotchas.blogspot.com/2011/10/why-is-error-function-minimized-in.html), $C(\\theta)$ is guaranteed to have a global minimum&mdash;we just need to find the corresponding parameters $\\theta$. Unfortunately, there's no known [closed-form solution](https://www.quora.com/Does-there-exist-an-analytical-solution-to-Logistic-Regression-similar-to-that-of-the-Normal-Equation-for-Linear-Regression) that conveniently provides us these values&mdash;the classifier will need to *learn* them from the training set.\n",
    "\n",
    "One learning algorithm is **batch gradient descent**. Here's how it works:\n",
    "\n",
    "1. Select arbitrary values for the parameters $\\theta$\n",
    "2. Compute the steepness, or gradient of $C(\\theta)$ at the current values of the parameters\n",
    "3. Subtract the gradient from all values of the parameters *simultaneously*\n",
    "4. Repeat step 2 and 3 until the gradient approaches zero, i.e., we've converged to the minimum of $C(\\theta)$\n",
    "\n",
    "Put simply, this algorithm takes steps opposite the direction of steepest increase of $C(\\theta)$, updating the parameters each time, and thereby, arrives closer and closer to the minimum. The gradient of $C(\\theta)$ is given by its partial derivatives with respect to the parameters $\\theta$:\n",
    "\n",
    "$$\\frac{\\partial}{\\partial\\theta_j}C(\\theta) = \\frac{1}{m}\\sum_{i=1}^{m}{x_j}^{(i)}({h_\\theta}(x^{(i)}) - y^{(i)})$$\n",
    "\n",
    "where $j = 0, 1\\dots n$ with $n$ being the number of features. This algorithm is called *batch* gradient descent because we process *all* of the training examples prior to computing the gradient and updating the parameters. The update formula used in the algorithm for each iteration is\n",
    "\n",
    "$$\\theta_j := \\theta_j - \\alpha\\frac{\\partial}{\\partial\\theta_j}C(\\theta) = \\theta_j - \\frac{\\alpha}{m}\\sum_{i=1}^{m}{x_j}^{(i)}({h_\\theta}(x^{(i)}) - y^{(i)})$$\n",
    "\n",
    "where $\\alpha$ dictates how large of a step is taken, and is called the **learning rate**. If $\\alpha$ is too small, we may take a long time to converge to the minimum of $C(\\theta)$. On the other hand, if $\\alpha$ is too large, we may overshoot the minimum and the parameters may oscillate or even diverge! Once we've converged to the minimum of $C(\\theta)$, the classifier will have learned the parameters of the hypothesis and will be equipped to make predictions.\n",
    "\n",
    "A vectorized version of the update formula is\n",
    "\n",
    "$$\\vec{\\theta} := \\vec{\\theta} - \\frac{\\alpha}{m}{X^T}({\\sigma(X\\vec{\\theta}) - \\mathbf{y}})$$\n",
    "\n",
    "It's also probably a good idea to keep track of the value of the cost function during each iteration to confirm that we've indeed converged to the minimum."
   ]
  },
  {
   "cell_type": "code",
   "execution_count": 9,
   "metadata": {
    "collapsed": true
   },
   "outputs": [],
   "source": [
    "def gradient_descent(X, y, alpha, iterations):\n",
    "    m = len(X)\n",
    "    \n",
    "    # Select arbitrary initial values for the parameters\n",
    "    current_theta = np.zeros((X.shape[1], 1))\n",
    "    \n",
    "    # Create an empty array to track the cost function during each iteration\n",
    "    cost_values = np.empty(iterations)\n",
    "    \n",
    "    for iteration in range(iterations):\n",
    "        # Compute the gradient and simultaneously update all parameters\n",
    "        hypothesis = special.expit(X.values @ current_theta)\n",
    "        current_theta -= (X.values.T @ (hypothesis - y.values)) * alpha / m\n",
    "        \n",
    "        # Record the current cost function\n",
    "        cost_values[iteration] = cost_function(X, y, current_theta)     \n",
    "    return current_theta, cost_values"
   ]
  },
  {
   "cell_type": "markdown",
   "metadata": {},
   "source": [
    "<a id=\"cell5\"></a>\n",
    "# 5. Training the classifier and making predictions\n",
    "\n",
    "Prior to running the learning algorithm, we need to pick a learning rate and the desired number of iterations."
   ]
  },
  {
   "cell_type": "code",
   "execution_count": 10,
   "metadata": {
    "collapsed": true
   },
   "outputs": [],
   "source": [
    "alpha = 1\n",
    "iterations = 1500"
   ]
  },
  {
   "cell_type": "markdown",
   "metadata": {},
   "source": [
    "It's finally time to train the logistic regression classifier!"
   ]
  },
  {
   "cell_type": "code",
   "execution_count": 11,
   "metadata": {
    "collapsed": false
   },
   "outputs": [
    {
     "name": "stdout",
     "output_type": "stream",
     "text": [
      "theta0 = [-7.31125582]\n",
      "theta1 = [ 0.]\n",
      "theta2 = [ 0.]\n"
     ]
    }
   ],
   "source": [
    "# Perform batch gradient descent\n",
    "theta, cost_history = gradient_descent(X, y, alpha, iterations)\n",
    "\n",
    "# Display the learned parameters \n",
    "for i, parameter in enumerate(theta):\n",
    "    print('theta{} = {}'.format(i, parameter))"
   ]
  },
  {
   "cell_type": "markdown",
   "metadata": {},
   "source": [
    "Using batch gradient descent, the classifier has learned the parameters $\\theta$ that minimize the cost function, has a functional hypothesis, and is ready to make predictions. However, let's first verify we've truly minimized the cost function by visualizing its value at each iteration."
   ]
  },
  {
   "cell_type": "code",
   "execution_count": 12,
   "metadata": {
    "collapsed": false,
    "scrolled": true
   },
   "outputs": [
    {
     "data": {
      "image/png": "[encoded data removed]",
      "text/plain": [
       "<matplotlib.figure.Figure at 0x1d61c9faa20>"
      ]
     },
     "metadata": {
      "image/png": {
       "height": 337,
       "width": 338
      }
     },
     "output_type": "display_data"
    }
   ],
   "source": [
    "# Display a scatterplot of the cost function at each iteration\n",
    "sns.lmplot(\n",
    "    x='Iteration',\n",
    "    y='Cost',\n",
    "    data=pd.DataFrame({'Iteration': range(iterations), 'Cost': cost_history}),\n",
    "    fit_reg=False\n",
    ");"
   ]
  },
  {
   "cell_type": "markdown",
   "metadata": {},
   "source": [
    "Excellent, the cost function converges so we don't need to alter our choices for $\\alpha$ and `iterations`. Let's also use the learned parameters to visualize the decision boundary of the classifier using the equation of the line from earlier:\n",
    "\n",
    "$$x_2=-\\frac{\\theta_0}{\\theta_2}-{\\frac{\\theta_1}{\\theta_2}}x_1$$"
   ]
  },
  {
   "cell_type": "code",
   "execution_count": 13,
   "metadata": {
    "collapsed": false
   },
   "outputs": [
    {
     "name": "stderr",
     "output_type": "stream",
     "text": [
      "C:\\Users\\Redwan Huq\\Anaconda3\\lib\\site-packages\\ipykernel\\__main__.py:4: RuntimeWarning: divide by zero encountered in true_divide\n"
     ]
    }
   ],
   "source": [
    "# Compute values of the decision boundary using the parameters and a range of\n",
    "# feature values\n",
    "x1_vals = np.linspace(X['funds'].min(), X['funds'].max(), iterations)\n",
    "x2_vals = (-theta[0, 0] - (theta[1, 0] * x1_vals)) / theta[2, 0]"
   ]
  },
  {
   "cell_type": "code",
   "execution_count": 14,
   "metadata": {
    "collapsed": false,
    "scrolled": true
   },
   "outputs": [
    {
     "ename": "ValueError",
     "evalue": "markers must be a singeton or a list of markers for each level of the hue variable",
     "output_type": "error",
     "traceback": [
      "\u001b[0;31m---------------------------------------------------------------------------\u001b[0m",
      "\u001b[0;31mValueError\u001b[0m                                Traceback (most recent call last)",
      "\u001b[0;32m<ipython-input-14-83afdfa9b75a>\u001b[0m in \u001b[0;36m<module>\u001b[0;34m()\u001b[0m\n\u001b[1;32m      7\u001b[0m     \u001b[0mfit_reg\u001b[0m\u001b[1;33m=\u001b[0m\u001b[1;32mFalse\u001b[0m\u001b[1;33m,\u001b[0m\u001b[1;33m\u001b[0m\u001b[0m\n\u001b[1;32m      8\u001b[0m     \u001b[0mmarkers\u001b[0m\u001b[1;33m=\u001b[0m\u001b[1;33m[\u001b[0m\u001b[1;34m'o'\u001b[0m\u001b[1;33m,\u001b[0m \u001b[1;34m'x'\u001b[0m\u001b[1;33m]\u001b[0m\u001b[1;33m,\u001b[0m\u001b[1;33m\u001b[0m\u001b[0m\n\u001b[0;32m----> 9\u001b[0;31m     \u001b[0mpalette\u001b[0m\u001b[1;33m=\u001b[0m\u001b[1;34m'Set1'\u001b[0m\u001b[1;33m\u001b[0m\u001b[0m\n\u001b[0m\u001b[1;32m     10\u001b[0m ).set_axis_labels('Funds (in millions)', 'Poll rating');\n\u001b[1;32m     11\u001b[0m \u001b[1;33m\u001b[0m\u001b[0m\n",
      "\u001b[0;32mC:\\Users\\Redwan Huq\\Anaconda3\\lib\\site-packages\\seaborn\\linearmodels.py\u001b[0m in \u001b[0;36mlmplot\u001b[0;34m(x, y, data, hue, col, row, palette, col_wrap, size, aspect, markers, sharex, sharey, hue_order, col_order, row_order, legend, legend_out, x_estimator, x_bins, x_ci, scatter, fit_reg, ci, n_boot, units, order, logistic, lowess, robust, logx, x_partial, y_partial, truncate, x_jitter, y_jitter, scatter_kws, line_kws)\u001b[0m\n\u001b[1;32m    557\u001b[0m         \u001b[0mmarkers\u001b[0m \u001b[1;33m=\u001b[0m \u001b[1;33m[\u001b[0m\u001b[0mmarkers\u001b[0m\u001b[1;33m]\u001b[0m \u001b[1;33m*\u001b[0m \u001b[0mn_markers\u001b[0m\u001b[1;33m\u001b[0m\u001b[0m\n\u001b[1;32m    558\u001b[0m     \u001b[1;32mif\u001b[0m \u001b[0mlen\u001b[0m\u001b[1;33m(\u001b[0m\u001b[0mmarkers\u001b[0m\u001b[1;33m)\u001b[0m \u001b[1;33m!=\u001b[0m \u001b[0mn_markers\u001b[0m\u001b[1;33m:\u001b[0m\u001b[1;33m\u001b[0m\u001b[0m\n\u001b[0;32m--> 559\u001b[0;31m         raise ValueError((\"markers must be a singeton or a list of markers \"\n\u001b[0m\u001b[1;32m    560\u001b[0m                           \"for each level of the hue variable\"))\n\u001b[1;32m    561\u001b[0m     \u001b[0mfacets\u001b[0m\u001b[1;33m.\u001b[0m\u001b[0mhue_kws\u001b[0m \u001b[1;33m=\u001b[0m \u001b[1;33m{\u001b[0m\u001b[1;34m\"marker\"\u001b[0m\u001b[1;33m:\u001b[0m \u001b[0mmarkers\u001b[0m\u001b[1;33m}\u001b[0m\u001b[1;33m\u001b[0m\u001b[0m\n",
      "\u001b[0;31mValueError\u001b[0m: markers must be a singeton or a list of markers for each level of the hue variable"
     ]
    },
    {
     "data": {
      "image/png": "[encoded data removed]",
      "text/plain": [
       "<matplotlib.figure.Figure at 0x1d61ca05fd0>"
      ]
     },
     "metadata": {
      "image/png": {
       "height": 336,
       "width": 338
      }
     },
     "output_type": "display_data"
    }
   ],
   "source": [
    "# Display a scatterplot of the training set and label the axes\n",
    "sns.lmplot(\n",
    "    data=pd.concat((X, y), axis=1),\n",
    "    x='funds',\n",
    "    y='rating',\n",
    "    hue='result',\n",
    "    fit_reg=False,\n",
    "    markers=['o', 'x'],\n",
    "    palette='Set1'\n",
    ").set_axis_labels('Funds (in millions)', 'Poll rating');\n",
    "\n",
    "# Display the decision boundary\n",
    "plt.plot(\n",
    "    x1_vals,\n",
    "    x2_vals,\n",
    "    color='black'\n",
    ");"
   ]
  },
  {
   "cell_type": "markdown",
   "metadata": {},
   "source": [
    "## The crystal ball awaits\n",
    "\n",
    "The classifier looks good to go! Let's have it make a prediction on a **test example** and determine whether a candidate with 1.1 million in campaign funds and a poll rating of 0.52 will win a mayoral election. "
   ]
  },
  {
   "cell_type": "code",
   "execution_count": null,
   "metadata": {
    "collapsed": false
   },
   "outputs": [],
   "source": [
    "# Insert a value of one to account for x0\n",
    "test_example = np.array([1, 1.1, 0.52])\n",
    "\n",
    "# Compute the win probability using the hypothesis\n",
    "special.expit(test_example @ theta)"
   ]
  },
  {
   "cell_type": "markdown",
   "metadata": {},
   "source": [
    "This candidate has a 64% chance of winning! Not bad. According to the probability threshold we decided on earlier, the classifier predicts the candidate will win. We can establish the **classification accuracy** by examining how well the classifier performs on the training set. Again, we'll make use of the threshold: if $h_\\theta(x) \\ge 0.5$, then we predict a win, otherwise a loss."
   ]
  },
  {
   "cell_type": "code",
   "execution_count": null,
   "metadata": {
    "collapsed": true
   },
   "outputs": [],
   "source": [
    "def predict(X, theta):\n",
    "    # Return True if the hypothesis >= 0.5, otherwise False\n",
    "    return special.expit(X.values @ theta) >= 0.5"
   ]
  },
  {
   "cell_type": "code",
   "execution_count": null,
   "metadata": {
    "collapsed": false,
    "scrolled": true
   },
   "outputs": [],
   "source": [
    "# Compute the classification accuracy\n",
    "(predict(X, theta) == y.values).sum() / m"
   ]
  },
  {
   "cell_type": "markdown",
   "metadata": {},
   "source": [
    "It looks like the classifier has an accuracy of 75%. Let's compare its performance with a logistic regression classifier from `sklearn`, Python's go-to machine learning package."
   ]
  },
  {
   "cell_type": "code",
   "execution_count": null,
   "metadata": {
    "collapsed": false,
    "scrolled": true
   },
   "outputs": [],
   "source": [
    "from sklearn import linear_model\n",
    "\n",
    "# Train a logistic regression classifier\n",
    "classifier = linear_model.LogisticRegression(penalty='l2', C=1e10)\n",
    "classifier.fit(X, y.values.ravel())\n",
    "\n",
    "# Compute the classification accuracy\n",
    "classifier.score(X, y)"
   ]
  },
  {
   "cell_type": "markdown",
   "metadata": {},
   "source": [
    "Excellent! Our homemade logistic regression classifier is just as accurate as the one from a tried-and-true machine learning package. Obviously, the training set in this example is overly simplified. With real-world datasets, we can run into dozens of features and the classes may not be so well-separated. Our classifier would still be functional but wouldn't likely hold a candle to the highly optimized one from `sklearn`. In addition, with multiple features, a logistic regression classifier would no longer be seeking a decision boundary that's a straight line. Rather, the classifier would learn the parameters that describe a multi-dimensional **hyperplane**, which can be very difficult to visualize.\n",
    "\n",
    "<a id=\"cell6\"></a>\n",
    "# 6. Assessing and improving performance\n",
    "\n",
    "Using classification accuracy alone provides a superficial and at times misleading picture of the classifier's performance. At the very least, a **confusion matrix** would reveal whether the classifier's mistakes are mostly false positives or false negatives. However, there's no reason to stop there; examining other performance metrics, such as precision, recall, F1 score, AUC, etc., would help narrow down whether this is a suitable model for making predictions on our data, or perhaps we should try a different one.\n",
    "\n",
    "There are also numerous ways to enhance our classifier:\n",
    "\n",
    "- Instead of choosing a value for `iterations`, we could automatically stop iterating once the difference between successive values of the cost function drops below a specified tolerance\n",
    "- We could perform **feature scaling** or normalization to speed up the learning algorithm\n",
    "- We could find an optimal learning rate\n",
    "- In this example we performed binary classification, but we could adapt the classifier to learn from a training set comprising [multiple classes](https://en.wikipedia.org/wiki/Multiclass_classification)\n",
    "\n",
    "In addition, for each iteration in the batch gradient descent algorithm, we waited until we had processed every single training example prior to computing the gradient and updating the parameters. What if instead our dataset had *millions* of training examples? That would be computationally expensive. More suitable options in this scenario would be to use a subset of the training set (**mini-batch gradient descent**), or compute the gradient and update the parameters as each training example is processed (**stochastic gradient descent**). Moreover, gradient descent is one of [many](https://en.wikipedia.org/wiki/Mathematical_optimization#Optimization_algorithms) learning algorithms&mdash;some don't require picking a learning rate, while others converge to the minimum of the cost function much faster.\n",
    "\n",
    "Finally, instead of choosing a linear combination of the features and a straight line as the decision boundary, we could've combined the features in a higher-order polynomial to achieve a more complex decision boundary; this may have enabled the classifier to perform even better. However, this strategy also increases the chance of building a classifier that *memorizes* the training set but fails to generalize a pattern, and thus performs poorly on test examples&mdash;a cardinal concern in machine learning called **overfitting**. To counter the risk of overfitting, we'd need to incorporate **regularization** into the learning algorithm, but that deserves its very own blog post.\n",
    "\n",
    "If you made it this far, you should have a good grasp of how to construct a logistic regression classifier from the ground up! I hope you also found this walkthrough useful as a peek under the hood of a popular machine learning model. At the very least, becoming familiar with the thought process, terminology, logic and math behind this classifier can only help in traversing the vast machine learning landscape.\n",
    "\n",
    "If you have any comments, questions or suggestions, kindly visit the [blog post](http://machinemadephd.com/posts/building-logistic-regression/) associated with this analysis."
   ]
  }
 ],
 "metadata": {
  "anaconda-cloud": {},
  "kernelspec": {
   "display_name": "Python [default]",
   "language": "python",
   "name": "python3"
  },
  "language_info": {
   "codemirror_mode": {
    "name": "ipython",
    "version": 3
   },
   "file_extension": ".py",
   "mimetype": "text/x-python",
   "name": "python",
   "nbconvert_exporter": "python",
   "pygments_lexer": "ipython3",
   "version": "3.5.2"
  }
 },
 "nbformat": 4,
 "nbformat_minor": 1
}
